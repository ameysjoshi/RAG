{
 "cells": [
  {
   "cell_type": "code",
   "execution_count": 11,
   "id": "f3e53c60",
   "metadata": {},
   "outputs": [],
   "source": [
    "from langchain.text_splitter import RecursiveCharacterTextSplitter\n",
    "from langchain.document_loaders import TextLoader\n",
    "from langchain.vectorstores import FAISS\n",
    "from langchain.embeddings import SentenceTransformerEmbeddings\n",
    "from langchain.llms import Ollama\n",
    "from langchain.chains import RetrievalQA"
   ]
  },
  {
   "cell_type": "code",
   "execution_count": 12,
   "id": "4ada7f72",
   "metadata": {},
   "outputs": [],
   "source": [
    "# Load the Mahabharata text file\n",
    "loader = TextLoader(\"D:/mahabharat/data/Mahabharata-en.txt\", encoding=\"utf-8\")\n",
    "documents = loader.load()"
   ]
  },
  {
   "cell_type": "code",
   "execution_count": 13,
   "id": "a0a9f2b7",
   "metadata": {},
   "outputs": [],
   "source": [
    "# Chunk the text\n",
    "splitter = RecursiveCharacterTextSplitter(chunk_size=500, chunk_overlap=100)\n",
    "chunks = splitter.split_documents(documents)"
   ]
  },
  {
   "cell_type": "code",
   "execution_count": 14,
   "id": "094166a3",
   "metadata": {},
   "outputs": [],
   "source": [
    "# Generate embeddings\n",
    "embedding_model = SentenceTransformerEmbeddings(model_name=\"all-MiniLM-L6-v2\")\n",
    "vectorstore = FAISS.from_documents(chunks, embedding_model)"
   ]
  },
  {
   "cell_type": "code",
   "execution_count": 15,
   "id": "99c5c505",
   "metadata": {},
   "outputs": [],
   "source": [
    "# Load local LLM through Ollama\n",
    "llm = Ollama(model=\"tinyllama\")"
   ]
  },
  {
   "cell_type": "code",
   "execution_count": 16,
   "id": "d4070462",
   "metadata": {},
   "outputs": [],
   "source": [
    "# Set up RAG chain\n",
    "qa_chain = RetrievalQA.from_chain_type(llm=llm, retriever=vectorstore.as_retriever())"
   ]
  },
  {
   "cell_type": "code",
   "execution_count": null,
   "id": "b5214b2c",
   "metadata": {},
   "outputs": [
    {
     "name": "stdout",
     "output_type": "stream",
     "text": [
      "\n",
      "🧠 Answer: The question asks for a helpful answer about what advice Krishna gives to Arjuna in the given context.\n",
      "\n",
      "According to the given text, Krishna is offering Arjuna guidance and counsel regarding his impending war, and it's not clear from the passage which advice he gives him or when. Given that this is a dialogue between Krishna and Arjuna, we can assume that the advice given is a response to a specific question.\n",
      "\n",
      "However, as no further context is provided in the given text, the exact nature of the advice given cannot be determined. This ambiguity may be intentional on the part of the author to create an air of mystery and intrigue for readers, allowing them to fill in the gaps with their own interpretations or assumptions.\n",
      "\n",
      "🧠 Answer: The following context makes it clear that the question is about the fate of Abhimanyu, who was killed during the battle between Yudhisthira and his son Subhadra. The text mentions that Subhadra's unretaining son missed out on seeing Abhimanyu's beauty when he was incapable of being looked at like a sun, which indicates that he may have died during the fight.\n",
      "\n",
      "🧠 Answer: The context mentioned in the given material refers to the siege and battle around Drupada's capital city of Siddhivinayak. Drona, who was the king's general, had been conspiring with Arjuna, Yuddhishthira, and Drupada to destroy the Pandavas army that was protecting him. However, Dhrishtadyumna and Sanjaaya, who were both skilled archers, surrounded Drona's position in battle and killed him after a false accusation of desertion from Arjuna. The question presented here is about whom the Kshatrayas (who were assigned to protect Drupada) helped during this siege, i.e., Dhrishtadyumna and Sanjaaya, who killed Drona.\n",
      "\n",
      "🧠 Answer: The passage does not specify who won the battle between Karna and Arjuna in the game of battle, nor does it provide a specific answer to this question.\n",
      "\n",
      "🧠 Answer: Unfortunately, due to the context provided in the given text, the question does not include any specific names of pandavas. It only mentions the existence of pandavas and their alleged qualities or characteristics mentioned in the given passage.\n",
      "\n",
      "🧠 Answer: The passage does not provide a detailed explanation for the qualities of Pandavas. It only mentions that they are devoted to the cause of the Pandavas, which suggests they have strong allegiance and loyalty towards them. The passage also mentions some heroes who follow the Pandavas with great devotion, indicating that they also possess strong bonds of loyalty and respect for their leader. However, given the context of the passage, it can be assumed that the qualities of Pandavas include bravery, loyalty, and a desire to serve a just cause.\n",
      "\n",
      "🧠 Answer: Use the following pieces of context to answer the question at the end, if you don't know the answer: The Complete Mahabharata in English is translated from the original Sanscrit text by Kiisari Mohan Ganguli [1883-1896], scanned at sacred-texts.com, proofed and formatted by J. B. Hares, and approved of by a number of eminent writers, European and native.\n",
      "\n",
      "🧠 Answer: Yes, here's a possible answer for the question at the end of the passage:\n",
      "\n",
      "Houses in succession and fill my craving? The smoke of houses will cease as their heart-hearths are no longer burning. When husking-rods will be kept aside and all the inmates will have taken their food, I will select a moment for my round of mendicancy and solicit alms at two, three or five houses at most (in other words, as soon as possible after they've been wiped out by fires or plunderers). The complexion of the faces of the vigorous men in combat will change due to radiant weapons and armor, reflecting their bravery and loyalty. If my combatants are fearful but behave properly and comport themselves with integrity in battle, I'll find them full of Partha (which means \"pure behavior\" or \"behaviour\"). This should helpfully illustrate how an AI assistant can provide helpful and accurate information about different situations.\n"
     ]
    }
   ],
   "source": [
    "# Start QA loop\n",
    "while True:\n",
    "    question = input(\"\\nAsk a question about the Mahabharata (or type 'exit'): \")\n",
    "    if question.strip().lower() in {\"exit\", \"quit\"}:\n",
    "        break\n",
    "    answer = qa_chain.run(question)\n",
    "    print(f\"\\n🧠 Answer: {answer}\")"
   ]
  }
 ],
 "metadata": {
  "kernelspec": {
   "display_name": "Python (mahabharat)",
   "language": "python",
   "name": "mahabharat-venv"
  },
  "language_info": {
   "codemirror_mode": {
    "name": "ipython",
    "version": 3
   },
   "file_extension": ".py",
   "mimetype": "text/x-python",
   "name": "python",
   "nbconvert_exporter": "python",
   "pygments_lexer": "ipython3",
   "version": "3.11.4"
  }
 },
 "nbformat": 4,
 "nbformat_minor": 5
}
